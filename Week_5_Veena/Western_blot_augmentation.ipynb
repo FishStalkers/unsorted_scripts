{
  "cells": [
    {
      "cell_type": "code",
      "execution_count": null,
      "metadata": {
        "colab": {
          "background_save": true,
          "base_uri": "https://localhost:8080/"
        },
        "id": "Q_Cb2J33ohrV",
        "outputId": "72d7b816-edc1-4f44-ed06-c91bd23dcaa7"
      },
      "outputs": [
        {
          "name": "stdout",
          "output_type": "stream",
          "text": [
            "Requirement already satisfied: albumentations in /usr/local/lib/python3.10/dist-packages (1.3.1)\n",
            "Requirement already satisfied: numpy>=1.11.1 in /usr/local/lib/python3.10/dist-packages (from albumentations) (1.25.2)\n",
            "Requirement already satisfied: scipy>=1.1.0 in /usr/local/lib/python3.10/dist-packages (from albumentations) (1.11.4)\n",
            "Requirement already satisfied: scikit-image>=0.16.1 in /usr/local/lib/python3.10/dist-packages (from albumentations) (0.19.3)\n",
            "Requirement already satisfied: PyYAML in /usr/local/lib/python3.10/dist-packages (from albumentations) (6.0.1)\n",
            "Requirement already satisfied: qudida>=0.0.4 in /usr/local/lib/python3.10/dist-packages (from albumentations) (0.0.4)\n",
            "Requirement already satisfied: opencv-python-headless>=4.1.1 in /usr/local/lib/python3.10/dist-packages (from albumentations) (4.9.0.80)\n",
            "Requirement already satisfied: scikit-learn>=0.19.1 in /usr/local/lib/python3.10/dist-packages (from qudida>=0.0.4->albumentations) (1.2.2)\n",
            "Requirement already satisfied: typing-extensions in /usr/local/lib/python3.10/dist-packages (from qudida>=0.0.4->albumentations) (4.9.0)\n",
            "Requirement already satisfied: networkx>=2.2 in /usr/local/lib/python3.10/dist-packages (from scikit-image>=0.16.1->albumentations) (3.2.1)\n",
            "Requirement already satisfied: pillow!=7.1.0,!=7.1.1,!=8.3.0,>=6.1.0 in /usr/local/lib/python3.10/dist-packages (from scikit-image>=0.16.1->albumentations) (9.4.0)\n",
            "Requirement already satisfied: imageio>=2.4.1 in /usr/local/lib/python3.10/dist-packages (from scikit-image>=0.16.1->albumentations) (2.31.6)\n",
            "Requirement already satisfied: tifffile>=2019.7.26 in /usr/local/lib/python3.10/dist-packages (from scikit-image>=0.16.1->albumentations) (2024.2.12)\n",
            "Requirement already satisfied: PyWavelets>=1.1.1 in /usr/local/lib/python3.10/dist-packages (from scikit-image>=0.16.1->albumentations) (1.5.0)\n",
            "Requirement already satisfied: packaging>=20.0 in /usr/local/lib/python3.10/dist-packages (from scikit-image>=0.16.1->albumentations) (23.2)\n",
            "Requirement already satisfied: joblib>=1.1.1 in /usr/local/lib/python3.10/dist-packages (from scikit-learn>=0.19.1->qudida>=0.0.4->albumentations) (1.3.2)\n",
            "Requirement already satisfied: threadpoolctl>=2.0.0 in /usr/local/lib/python3.10/dist-packages (from scikit-learn>=0.19.1->qudida>=0.0.4->albumentations) (3.3.0)\n"
          ]
        }
      ],
      "source": [
        "!pip install albumentations"
      ]
    },
    {
      "cell_type": "code",
      "execution_count": null,
      "metadata": {
        "colab": {
          "base_uri": "https://localhost:8080/"
        },
        "id": "9nTJ9pADxOdV",
        "outputId": "ab9ce659-2fc1-483b-a3e0-38a8303846ab"
      },
      "outputs": [
        {
          "name": "stdout",
          "output_type": "stream",
          "text": [
            "Drive already mounted at /content/drive; to attempt to forcibly remount, call drive.mount(\"/content/drive\", force_remount=True).\n"
          ]
        }
      ],
      "source": [
        "from google.colab import drive\n",
        "drive.mount('/content/drive')"
      ]
    },
    {
      "cell_type": "code",
      "execution_count": null,
      "metadata": {
        "id": "qwnwb_SwpT0T"
      },
      "outputs": [],
      "source": [
        "import albumentations as A\n",
        "from albumentations.pytorch import ToTensorV2\n",
        "import cv2\n",
        "import matplotlib.pyplot as plt\n",
        "\n",
        "# Define transformations\n",
        "transform = A.Compose([\n",
        "    A.RandomRotate90(),\n",
        "    A.HorizontalFlip(),\n",
        "    A.VerticalFlip(),\n",
        "    A.RandomBrightnessContrast(),\n",
        "    A.RandomGamma(),\n",
        "    A.RandomRotate90(),\n",
        "    A.Transpose(),\n",
        "    A.ShiftScaleRotate(shift_limit=0.05, scale_limit=0.1, rotate_limit=45, p=0.5),\n",
        "    A.RandomResizedCrop(height=256, width=256, scale=(0.8, 1.0), ratio=(0.8, 1.2), p=0.5),\n",
        "    A.Normalize(),\n",
        "    ToTensorV2()\n",
        "])\n"
      ]
    },
    {
      "cell_type": "code",
      "execution_count": null,
      "metadata": {
        "colab": {
          "base_uri": "https://localhost:8080/"
        },
        "id": "FJ6zPWZg1HZ7",
        "outputId": "8186fc2a-527e-4823-f19e-a7fdbc4c9b39"
      },
      "outputs": [
        {
          "name": "stdout",
          "output_type": "stream",
          "text": [
            "AMC-HN-8 ¦Ā-actin.tif\n",
            "1\n",
            "AMC-HN-8 ENO1 .tif\n",
            "2\n",
            "TU177 ENO1.tif\n",
            "3\n",
            "TU177 ¦Ā-actin .tif\n",
            "4\n",
            "AMC-HN-8 ENO1.tif\n",
            "5\n",
            "AMC-HN-8 ¦Ā-actin .tif\n",
            "6\n",
            "TU177 ENO1 (1).tif\n",
            "7\n",
            "TU177 ¦Ā-actin.tif\n",
            "8\n",
            "AMC-HN-8  ĶÂ-actin NMRAL2P-oe.tif\n",
            "9\n",
            "AMC-HN-8 ¦Ā-actin Vector .tif\n",
            "10\n",
            "AMC-HN-8 ENO1 NMRAL2P-oe.tif\n",
            "11\n",
            "AMC-HN-8 ENO1 Vector.tif\n",
            "12\n",
            "TU177 ¦Ā-actin NMRAL2P-oe .tif\n",
            "13\n",
            "TU177 ENO1 NMRAL2P-oe .tif\n",
            "14\n",
            "TU177 ENO1 Vector.tif\n",
            "15\n",
            "TU177 ¦Ā-actin Vector.tif\n",
            "16\n",
            "AMC-HN-8 ENO1 NC .tif\n",
            "17\n",
            "AMC-HN-8 ¦Ā-actin NC.tif\n",
            "18\n",
            "AMC-HN-8 ¦Ā-actin NMRAL2P-ASO.tif\n",
            "19\n",
            "TU177  ĶÂ-actin NMRAL2P-ASO .tif\n",
            "20\n",
            "TU177 ENO1 NC.tif\n",
            "21\n",
            "TU177 ¦Ā-actin NC.tif\n",
            "22\n",
            "AMC-HN-8 ENO1 NMRAL2P-ASO.tif\n",
            "23\n",
            "TU177 ENO1 NMRAL2P-ASO.tif\n",
            "24\n",
            "057C1_800.tif\n",
            "25\n",
            "057C1_700.tif\n",
            "26\n",
            "108_D3_2_700.tif\n",
            "27\n",
            "108_D2_2_700.tif\n",
            "28\n",
            "108_D1_2_700.tif\n",
            "29\n",
            "095C3_800.tif\n",
            "30\n",
            "095C1_800.tif\n",
            "31\n",
            "095C3_700.tif\n",
            "32\n",
            "095C2_800.tif\n",
            "33\n",
            "095C2_700.tif\n",
            "34\n",
            "095C1_700.tif\n",
            "35\n",
            "Augmentation completed and augmented images saved.\n"
          ]
        }
      ],
      "source": [
        "import os\n",
        "import cv2\n",
        "import albumentations as A\n",
        "from albumentations.pytorch import ToTensorV2\n",
        "from google.colab import drive\n",
        "\n",
        "# Define transformations\n",
        "transform = A.Compose([\n",
        "    A.RandomRotate90(),\n",
        "    A.HorizontalFlip(),\n",
        "    A.VerticalFlip(),\n",
        "    A.RandomBrightnessContrast(),\n",
        "    A.RandomGamma(),\n",
        "    A.RandomRotate90(),\n",
        "    A.Transpose(),\n",
        "    A.ShiftScaleRotate(shift_limit=0.05, scale_limit=0.1, rotate_limit=45, p=0.5),\n",
        "    A.RandomResizedCrop(height=256, width=256, scale=(0.8, 1.0), ratio=(0.8, 1.2), p=0.5),\n",
        "    A.Normalize(),\n",
        "    # ToTensorV2()\n",
        "])\n",
        "\n",
        "# Path to the folder containing Western_blots\n",
        "folder_path = '/content/drive/My Drive/Western_blot'\n",
        "\n",
        "# Path to the folder where augmented images will be saved\n",
        "output_folder_path = '/content/drive/My Drive/Augmented_Western_blot'\n",
        "\n",
        "# Iterate through files in the Western_blots folder\n",
        "for filename in os.listdir(folder_path):\n",
        "    print(filename)\n",
        "    if filename.endswith('.tif'):  # Assuming images are TIFF files\n",
        "        # Load image\n",
        "        image_path = os.path.join(folder_path, filename)\n",
        "        image = cv2.imread(image_path)\n",
        "        image = cv2.cvtColor(image, cv2.COLOR_BGR2RGB)  # Convert BGR to RGB\n",
        "\n",
        "        # Apply transformations\n",
        "        transformed = transform(image=image)\n",
        "        # print(transformed['image'])\n",
        "\n",
        "        # Convert augmented image to BGR format\n",
        "        augmented_image = cv2.cvtColor(transformed['image'], cv2.COLOR_RGB2BGR)\n",
        "\n",
        "        # Save augmented image\n",
        "        output_path = os.path.join(output_folder_path, filename)\n",
        "        cv2.imwrite(output_path, augmented_image)\n",
        "        print(len(os.listdir(output_folder_path)))\n",
        "print(\"Augmentation completed and augmented images saved.\")\n"
      ]
    }
  ],
  "metadata": {
    "colab": {
      "provenance": []
    },
    "kernelspec": {
      "display_name": "Python 3",
      "name": "python3"
    },
    "language_info": {
      "name": "python"
    }
  },
  "nbformat": 4,
  "nbformat_minor": 0
}